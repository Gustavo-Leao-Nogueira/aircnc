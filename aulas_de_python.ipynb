{
  "nbformat": 4,
  "nbformat_minor": 0,
  "metadata": {
    "colab": {
      "name": "aulas-de-python",
      "provenance": [],
      "collapsed_sections": [],
      "include_colab_link": true
    },
    "kernelspec": {
      "name": "python3",
      "display_name": "Python 3"
    }
  },
  "cells": [
    {
      "cell_type": "markdown",
      "metadata": {
        "id": "view-in-github",
        "colab_type": "text"
      },
      "source": [
        "<a href=\"https://colab.research.google.com/github/Gustavo-Leao-Nogueira/aircnc/blob/master/aulas_de_python.ipynb\" target=\"_parent\"><img src=\"https://colab.research.google.com/assets/colab-badge.svg\" alt=\"Open In Colab\"/></a>"
      ]
    },
    {
      "cell_type": "code",
      "metadata": {
        "id": "kZ_dgYHQbdzv",
        "colab_type": "code",
        "colab": {
          "base_uri": "https://localhost:8080/",
          "height": 54
        },
        "outputId": "b7750a61-26c7-494f-cc50-f2f4a60c790b"
      },
      "source": [
        "# Este é um comentário de uma unica linha, ele não é executado pelo python\n",
        "\"\"\"\n",
        "Este é um comentário de multiplas linhas\n",
        "Todos os comentários podem ser no formato de #\n",
        "Ou também pode ser com aspas simples(') ou duplas(\") \n",
        "\"\"\""
      ],
      "execution_count": 4,
      "outputs": [
        {
          "output_type": "execute_result",
          "data": {
            "text/plain": [
              "'\\nEste é um comentário de multiplas linhas\\nTodos os comentários podem ser no formato de #\\nOu também pode ser com aspas simples(\\') ou duplas(\") \\n'"
            ]
          },
          "metadata": {
            "tags": []
          },
          "execution_count": 4
        }
      ]
    },
    {
      "cell_type": "code",
      "metadata": {
        "id": "Ulos_-DcV_Lh",
        "colab_type": "code",
        "outputId": "6d1eea76-3419-4565-82bd-5093eeea6059",
        "colab": {
          "base_uri": "https://localhost:8080/",
          "height": 34
        }
      },
      "source": [
        "print('Hello, Cruel World!') # Mostra uma mensagem na tela"
      ],
      "execution_count": 3,
      "outputs": [
        {
          "output_type": "stream",
          "text": [
            "Hello, Cruel World!\n"
          ],
          "name": "stdout"
        }
      ]
    },
    {
      "cell_type": "code",
      "metadata": {
        "id": "Ro2Jso05cOrg",
        "colab_type": "code",
        "colab": {}
      },
      "source": [
        ""
      ],
      "execution_count": 0,
      "outputs": []
    }
  ]
}