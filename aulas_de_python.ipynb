{
  "nbformat": 4,
  "nbformat_minor": 0,
  "metadata": {
    "colab": {
      "name": "aulas-de-python",
      "provenance": [],
      "collapsed_sections": [],
      "include_colab_link": true
    },
    "kernelspec": {
      "name": "python3",
      "display_name": "Python 3"
    }
  },
  "cells": [
    {
      "cell_type": "markdown",
      "metadata": {
        "id": "view-in-github",
        "colab_type": "text"
      },
      "source": [
        "<a href=\"https://colab.research.google.com/github/Gustavo-Leao-Nogueira/aircnc/blob/master/aulas_de_python.ipynb\" target=\"_parent\"><img src=\"https://colab.research.google.com/assets/colab-badge.svg\" alt=\"Open In Colab\"/></a>"
      ]
    },
    {
      "cell_type": "code",
      "metadata": {
        "id": "kZ_dgYHQbdzv",
        "colab_type": "code",
        "colab": {
          "base_uri": "https://localhost:8080/",
          "height": 54
        },
        "outputId": "b7750a61-26c7-494f-cc50-f2f4a60c790b"
      },
      "source": [
        "# Este é um comentário de uma unica linha, ele não é executado pelo python\n",
        "\"\"\"\n",
        "Este é um comentário de multiplas linhas\n",
        "Todos os comentários podem ser no formato de #\n",
        "Ou também pode ser com aspas simples(') ou duplas(\") \n",
        "\"\"\""
      ],
      "execution_count": 4,
      "outputs": [
        {
          "output_type": "execute_result",
          "data": {
            "text/plain": [
              "'\\nEste é um comentário de multiplas linhas\\nTodos os comentários podem ser no formato de #\\nOu também pode ser com aspas simples(\\') ou duplas(\") \\n'"
            ]
          },
          "metadata": {
            "tags": []
          },
          "execution_count": 4
        }
      ]
    },
    {
      "cell_type": "code",
      "metadata": {
        "id": "Ulos_-DcV_Lh",
        "colab_type": "code",
        "outputId": "6d1eea76-3419-4565-82bd-5093eeea6059",
        "colab": {
          "base_uri": "https://localhost:8080/",
          "height": 34
        }
      },
      "source": [
        "print('Hello, Cruel World!') # Mostra uma mensagem na tela"
      ],
      "execution_count": 3,
      "outputs": [
        {
          "output_type": "stream",
          "text": [
            "Hello, Cruel World!\n"
          ],
          "name": "stdout"
        }
      ]
    },
    {
      "cell_type": "code",
      "metadata": {
        "id": "Ro2Jso05cOrg",
        "colab_type": "code",
        "colab": {
          "base_uri": "https://localhost:8080/",
          "height": 68
        },
        "outputId": "2977e15f-9eda-454c-93f3-8c367d58abcc"
      },
      "source": [
        "# Variáveis guardam o valor  atribuido (do lado direito do =)\n",
        "texto = \"Esta é uma variavel\"\n",
        "print(texto)\n",
        "numero = 5\n",
        "print(numero)\n",
        "decimal = 8.5\n",
        "print(decimal)"
      ],
      "execution_count": 5,
      "outputs": [
        {
          "output_type": "stream",
          "text": [
            "Esta é uma variavel\n",
            "5\n",
            "8.5\n"
          ],
          "name": "stdout"
        }
      ]
    },
    {
      "cell_type": "code",
      "metadata": {
        "id": "5yq4cMVmdYpw",
        "colab_type": "code",
        "colab": {
          "base_uri": "https://localhost:8080/",
          "height": 85
        },
        "outputId": "50236f85-6fd0-43d1-8be5-ec984c405e46"
      },
      "source": [
        "# É possível fazer calculos atribuindo a variável com os símbulos (+ soma, - subtração, * multiplicação, / divisão).\n",
        "\n",
        "a = 5\n",
        "b = 3\n",
        "soma = a + b\n",
        "subtracao = a - b\n",
        "multiplicacao = a * b\n",
        "divisao = a / b\n",
        "\n",
        "print(f'{a} + {b} = {soma}')\n",
        "print(f'{a} - {b} = {subtracao}')\n",
        "print(f'{a} * {b} = {multiplicacao}')\n",
        "print(f'{a} / {b} = {divisao}')"
      ],
      "execution_count": 6,
      "outputs": [
        {
          "output_type": "stream",
          "text": [
            "5 + 3 = 8\n",
            "5 - 3 = 2\n",
            "5 * 3 = 15\n",
            "5 / 3 = 1.6666666666666667\n"
          ],
          "name": "stdout"
        }
      ]
    },
    {
      "cell_type": "code",
      "metadata": {
        "id": "bhwj06K2eo9L",
        "colab_type": "code",
        "colab": {
          "base_uri": "https://localhost:8080/",
          "height": 51
        },
        "outputId": "f41e8a4e-8610-45ff-eb26-65b071230298"
      },
      "source": [
        "# Para termos uma interação com o sistema, podemos atribuir a uma variavel a entrada de texto, como abaixo:\n",
        "\n",
        "nome = input('Digite seu nome: ')\n",
        "print(f'Olá {nome}, tenha um bom dia!')"
      ],
      "execution_count": 7,
      "outputs": [
        {
          "output_type": "stream",
          "text": [
            "Digite seu nome: Gustavo\n",
            "Olá Gustavo, tenha um bom dia!\n"
          ],
          "name": "stdout"
        }
      ]
    }
  ]
}